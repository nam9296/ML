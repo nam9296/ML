{
 "cells": [
  {
   "cell_type": "markdown",
   "metadata": {},
   "source": [
    "### 1. 파이썬 연습문제"
   ]
  },
  {
   "cell_type": "code",
   "execution_count": 1,
   "metadata": {},
   "outputs": [
    {
     "name": "stdout",
     "output_type": "stream",
     "text": [
      "정수를 입력하세요 : 0\n",
      "0 입니다\n"
     ]
    }
   ],
   "source": [
    "# - 입력 받은 정수가 음수인지 양수인지 0인지 알려주세요.\n",
    "num = int(input(\"정수를 입력하세요 : \"))\n",
    "if num > 0:\n",
    "   print(\"양수입니다\") \n",
    "elif num==0:\n",
    "    print(\"0 입니다\")\n",
    "else:\n",
    "    print(\"음수입니다\")\n",
    "\n"
   ]
  },
  {
   "cell_type": "code",
   "execution_count": 2,
   "metadata": {},
   "outputs": [
    {
     "name": "stdout",
     "output_type": "stream",
     "text": [
      "지정된 범위를 벗어났습니다.\n"
     ]
    }
   ],
   "source": [
    "# - 'hello'를 지정한 횟수(0 <= n <= 3)만큼 출력해 보세요.\n",
    "def hello(n):\n",
    "    if 0 <= n <= 3:\n",
    "        print(\"hello \"*n)\n",
    "    else:\n",
    "        print(\"지정된 범위를 벗어났습니다.\")\n",
    "hello(4)"
   ]
  },
  {
   "cell_type": "code",
   "execution_count": 3,
   "metadata": {},
   "outputs": [
    {
     "data": {
      "text/plain": [
       "[9, 8, 7, 6, 5, 4, 3, 2, 1, 0]"
      ]
     },
     "execution_count": 3,
     "metadata": {},
     "output_type": "execute_result"
    }
   ],
   "source": [
    "# - 0~9사이의 정수를 거꾸로 출력해 보세요.\n",
    "n=list(range(10))\n",
    "n[::-1]"
   ]
  },
  {
   "cell_type": "code",
   "execution_count": 4,
   "metadata": {},
   "outputs": [
    {
     "name": "stdout",
     "output_type": "stream",
     "text": [
      "0 : 2\n",
      "1 : 4\n",
      "2 : 6\n"
     ]
    }
   ],
   "source": [
    "# - 리스트를 출력하면서 앞에 일련번호를 붙여주세요. \n",
    "# # 0 2\n",
    "# # 1 4\n",
    "# # 2 6\n",
    "b=[2,4,6]\n",
    "for i in range(len(b)):\n",
    "    print(i,\":\",b[i])"
   ]
  },
  {
   "cell_type": "code",
   "execution_count": 5,
   "metadata": {},
   "outputs": [
    {
     "data": {
      "text/plain": [
       "[1, 3, 5]"
      ]
     },
     "execution_count": 5,
     "metadata": {},
     "output_type": "execute_result"
    }
   ],
   "source": [
    "#- 리스트에서 중복 값을 제거해 보세요.\n",
    "ns = [1, 3, 5, 1, 3, 5, 1, 3, 5]\n",
    "ns_1=[]\n",
    "for i in ns:\n",
    "    if i not in ns_1:\n",
    "        ns_1.append(i)\n",
    "ns_1"
   ]
  },
  {
   "cell_type": "markdown",
   "metadata": {},
   "source": [
    "### 2. numpy 연습문제"
   ]
  },
  {
   "cell_type": "code",
   "execution_count": 6,
   "metadata": {},
   "outputs": [],
   "source": [
    "import numpy as np"
   ]
  },
  {
   "cell_type": "code",
   "execution_count": 7,
   "metadata": {},
   "outputs": [
    {
     "data": {
      "text/plain": [
       "array([[28,  3, 20, 27,  7, 16],\n",
       "       [18, 14, 18,  2, 17, 10],\n",
       "       [ 4,  1,  3, 22,  6, 12],\n",
       "       [28, 17, 13, 24, 18, 12],\n",
       "       [ 5, 19, 13, 24,  2,  4]])"
      ]
     },
     "execution_count": 7,
     "metadata": {},
     "output_type": "execute_result"
    }
   ],
   "source": [
    "a = np.random.randint(1, 30, size=(5, 6))\n",
    "a"
   ]
  },
  {
   "cell_type": "code",
   "execution_count": 8,
   "metadata": {},
   "outputs": [
    {
     "data": {
      "text/plain": [
       "28"
      ]
     },
     "execution_count": 8,
     "metadata": {},
     "output_type": "execute_result"
    }
   ],
   "source": [
    "# -전체의 최댓값\n",
    "a.max()"
   ]
  },
  {
   "cell_type": "code",
   "execution_count": 9,
   "metadata": {},
   "outputs": [
    {
     "data": {
      "text/plain": [
       "array([101,  79,  48, 112,  67])"
      ]
     },
     "execution_count": 9,
     "metadata": {},
     "output_type": "execute_result"
    }
   ],
   "source": [
    "# -각 행의 합\n",
    "a.sum(axis =1)"
   ]
  },
  {
   "cell_type": "code",
   "execution_count": 10,
   "metadata": {},
   "outputs": [
    {
     "data": {
      "text/plain": [
       "array([28, 18, 22, 28, 24])"
      ]
     },
     "execution_count": 10,
     "metadata": {},
     "output_type": "execute_result"
    }
   ],
   "source": [
    "# -각 행의 최댓값\n",
    "a.max(axis=1)"
   ]
  },
  {
   "cell_type": "code",
   "execution_count": 11,
   "metadata": {},
   "outputs": [
    {
     "data": {
      "text/plain": [
       "array([16.6, 10.8, 13.4, 19.8, 10. , 10.8])"
      ]
     },
     "execution_count": 11,
     "metadata": {},
     "output_type": "execute_result"
    }
   ],
   "source": [
    "# -각 열의 평균\n",
    "a.mean(axis=0)"
   ]
  },
  {
   "cell_type": "code",
   "execution_count": 12,
   "metadata": {},
   "outputs": [
    {
     "data": {
      "text/plain": [
       "array([4, 1, 3, 2, 2, 4])"
      ]
     },
     "execution_count": 12,
     "metadata": {},
     "output_type": "execute_result"
    }
   ],
   "source": [
    "# -각 열의 최솟값\n",
    "a.min(axis=0)"
   ]
  },
  {
   "cell_type": "code",
   "execution_count": 13,
   "metadata": {},
   "outputs": [
    {
     "data": {
      "text/plain": [
       "array([[ 0,  1,  2,  3,  4],\n",
       "       [ 5,  6,  7,  8,  9],\n",
       "       [10, 11, 12, 13, 14]])"
      ]
     },
     "execution_count": 13,
     "metadata": {},
     "output_type": "execute_result"
    }
   ],
   "source": [
    "# 2)다음 행렬과 같은 행렬이 있다.\n",
    "m = np.array([[ 0,  1,  2,  3,  4],\n",
    "            [ 5,  6,  7,  8,  9],\n",
    "            [10, 11, 12, 13, 14]])\n",
    "m"
   ]
  },
  {
   "cell_type": "code",
   "execution_count": 14,
   "metadata": {},
   "outputs": [
    {
     "data": {
      "text/plain": [
       "7"
      ]
     },
     "execution_count": 14,
     "metadata": {},
     "output_type": "execute_result"
    }
   ],
   "source": [
    "# -이 행렬에서 값 7 을 인덱싱한다.\n",
    "m[(1,2)]"
   ]
  },
  {
   "cell_type": "code",
   "execution_count": 15,
   "metadata": {},
   "outputs": [
    {
     "data": {
      "text/plain": [
       "14"
      ]
     },
     "execution_count": 15,
     "metadata": {},
     "output_type": "execute_result"
    }
   ],
   "source": [
    "# -이 행렬에서 값 14 을 인덱싱한다.\n",
    "m[(2,-1)]"
   ]
  },
  {
   "cell_type": "code",
   "execution_count": 16,
   "metadata": {},
   "outputs": [
    {
     "data": {
      "text/plain": [
       "array([6, 7])"
      ]
     },
     "execution_count": 16,
     "metadata": {},
     "output_type": "execute_result"
    }
   ],
   "source": [
    "# -이 행렬에서 배열 [6, 7] 을 슬라이싱한다.\n",
    "m[1][1:3]"
   ]
  },
  {
   "cell_type": "code",
   "execution_count": 17,
   "metadata": {},
   "outputs": [
    {
     "data": {
      "text/plain": [
       "array([ 7, 12])"
      ]
     },
     "execution_count": 17,
     "metadata": {},
     "output_type": "execute_result"
    }
   ],
   "source": [
    "# -이 행렬에서 배열 [7, 12] 을 슬라이싱한다.\n",
    "m[:,2][1:]"
   ]
  },
  {
   "cell_type": "code",
   "execution_count": 18,
   "metadata": {},
   "outputs": [
    {
     "data": {
      "text/plain": [
       "array([[3, 4],\n",
       "       [8, 9]])"
      ]
     },
     "execution_count": 18,
     "metadata": {},
     "output_type": "execute_result"
    }
   ],
   "source": [
    "# -이 행렬에서 배열 [[3, 4], [8, 9]] 을 슬라이싱한다.\n",
    "m[:,3:][:2]"
   ]
  },
  {
   "cell_type": "code",
   "execution_count": 32,
   "metadata": {},
   "outputs": [],
   "source": [
    "# 3) 지금까지 공부한 명령어를 사용하여 다음과 같은 배열을 만들어라.\n",
    "# (코드를 효율적으로)\n",
    "# array([[   0.,    0.,    0.,    1.,    1.],\n",
    "#        [   0.,    0.,    0.,    1.,    1.],\n",
    "#        [   0.,    0.,    0.,    1.,    1.],\n",
    "#        [  10.,   20.,   30.,   40.,   50.],\n",
    "#        [  60.,   70.,   80.,   90.,  100.],\n",
    "#        [ 110.,  120.,  130.,  140.,  150.],\n",
    "#        [   0.,    0.,    0.,    1.,    1.],\n",
    "#        [   0.,    0.,    0.,    1.,    1.],\n",
    "#        [   0.,    0.,    0.,    1.,    1.],\n",
    "#        [  10.,   20.,   30.,   40.,   50.],\n",
    "#        [  60.,   70.,   80.,   90.,  100.],\n",
    "#        [ 110.,  120.,  130.,  140.,  150.]])"
   ]
  },
  {
   "cell_type": "code",
   "execution_count": 31,
   "metadata": {},
   "outputs": [
    {
     "data": {
      "text/plain": [
       "array([[  0.,   0.,   0.,   1.,   1.],\n",
       "       [  0.,   0.,   0.,   1.,   1.],\n",
       "       [  0.,   0.,   0.,   1.,   1.],\n",
       "       [ 10.,  20.,  30.,  40.,  50.],\n",
       "       [ 60.,  70.,  80.,  90., 100.],\n",
       "       [110., 120., 130., 140., 150.],\n",
       "       [  0.,   0.,   0.,   1.,   1.],\n",
       "       [  0.,   0.,   0.,   1.,   1.],\n",
       "       [  0.,   0.,   0.,   1.,   1.],\n",
       "       [ 10.,  20.,  30.,  40.,  50.],\n",
       "       [ 60.,  70.,  80.,  90., 100.],\n",
       "       [110., 120., 130., 140., 150.]])"
      ]
     },
     "execution_count": 31,
     "metadata": {},
     "output_type": "execute_result"
    }
   ],
   "source": [
    "x=np.hstack([np.zeros((3,3)),np.ones((3,2))])\n",
    "y=np.arange(10,151,10).reshape(3,5)\n",
    "z=np.vstack([x,y])\n",
    "np.tile(z,(2,1))"
   ]
  },
  {
   "cell_type": "code",
   "execution_count": 20,
   "metadata": {},
   "outputs": [
    {
     "data": {
      "text/plain": [
       "array([ 1,  2,  3,  4,  5,  6,  7,  8,  9, 10, 11, 12, 13, 14, 15, 16, 17,\n",
       "       18, 19, 20])"
      ]
     },
     "execution_count": 20,
     "metadata": {},
     "output_type": "execute_result"
    }
   ],
   "source": [
    "# 4) 다음 행렬과 같은 배열이 있다.\n",
    "x = np.array([1, 2, 3, 4, 5, 6, 7, 8, 9, 10,\n",
    "             11, 12, 13, 14, 15, 16, 17, 18, 19, 20])\n",
    "x"
   ]
  },
  {
   "cell_type": "code",
   "execution_count": 21,
   "metadata": {},
   "outputs": [
    {
     "data": {
      "text/plain": [
       "array([ 3,  6,  9, 12, 15, 18])"
      ]
     },
     "execution_count": 21,
     "metadata": {},
     "output_type": "execute_result"
    }
   ],
   "source": [
    "# -이 배열에서 3의 배수를 찾아라.\n",
    "x[x%3==0]\n"
   ]
  },
  {
   "cell_type": "code",
   "execution_count": 22,
   "metadata": {},
   "outputs": [
    {
     "data": {
      "text/plain": [
       "array([ 1,  5,  9, 13, 17])"
      ]
     },
     "execution_count": 22,
     "metadata": {},
     "output_type": "execute_result"
    }
   ],
   "source": [
    "# -이 배열에서 4로 나누면 1이 남는 수를 찾아라.\n",
    "x[x%4==1]"
   ]
  },
  {
   "cell_type": "code",
   "execution_count": 23,
   "metadata": {},
   "outputs": [
    {
     "data": {
      "text/plain": [
       "array([9])"
      ]
     },
     "execution_count": 23,
     "metadata": {},
     "output_type": "execute_result"
    }
   ],
   "source": [
    "# -이 배열에서 3으로 나누면 나누어지고 4로 나누면 1이 남는 수를 찾아라.\n",
    "x[(x%3==0) & (x%4==1)]"
   ]
  },
  {
   "cell_type": "code",
   "execution_count": 24,
   "metadata": {},
   "outputs": [
    {
     "data": {
      "text/plain": [
       "array([0, 0, 0, 1, 0, 0, 0, 0, 1, 1])"
      ]
     },
     "execution_count": 24,
     "metadata": {},
     "output_type": "execute_result"
    }
   ],
   "source": [
    "# 5) \n",
    "# -동전을 10번 던져 앞면(숫자 1)과 뒷면(숫자 0)이 나오는 가상 실험을 파이썬으로 작성한다.\n",
    "coin=np.arange(2)\n",
    "np.random.choice(coin,10)"
   ]
  },
  {
   "cell_type": "code",
   "execution_count": 25,
   "metadata": {},
   "outputs": [
    {
     "data": {
      "text/plain": [
       "3.25"
      ]
     },
     "execution_count": 25,
     "metadata": {},
     "output_type": "execute_result"
    }
   ],
   "source": [
    "# -주사위를 100번 던져서 나오는 숫자의 평균을 구하라.\n",
    "dice=np.arange(1,7)\n",
    "np.random.choice(dice, 100).mean()"
   ]
  },
  {
   "cell_type": "markdown",
   "metadata": {},
   "source": [
    "### 3. iris data 유사 데이터 추출"
   ]
  },
  {
   "cell_type": "code",
   "execution_count": 26,
   "metadata": {},
   "outputs": [
    {
     "data": {
      "text/plain": [
       "array([5.1, 3.5, 1.4, 0.2])"
      ]
     },
     "execution_count": 26,
     "metadata": {},
     "output_type": "execute_result"
    }
   ],
   "source": [
    "from sklearn.datasets import load_iris  # 사이킷런 패키지 임포트\n",
    "iris = load_iris()  # 데이터 로드\n",
    "iris.data[0, :]  # 첫 번째 꽃의 데이터"
   ]
  },
  {
   "cell_type": "code",
   "execution_count": 27,
   "metadata": {},
   "outputs": [
    {
     "data": {
      "text/plain": [
       "array([5.1, 3.5, 1.4, 0.2])"
      ]
     },
     "execution_count": 27,
     "metadata": {},
     "output_type": "execute_result"
    }
   ],
   "source": [
    "iris.data[0,:]"
   ]
  },
  {
   "cell_type": "code",
   "execution_count": 28,
   "metadata": {},
   "outputs": [],
   "source": [
    "distance = np.sqrt(((iris.data[1:len(iris.data)+1] - iris.data[0])**2).sum(axis=1))\n",
    "distance_min=distance.min()"
   ]
  },
  {
   "cell_type": "code",
   "execution_count": 29,
   "metadata": {},
   "outputs": [
    {
     "data": {
      "text/plain": [
       "(array([16], dtype=int64),)"
      ]
     },
     "execution_count": 29,
     "metadata": {},
     "output_type": "execute_result"
    }
   ],
   "source": [
    "np.where(distance==distance_min)"
   ]
  },
  {
   "cell_type": "code",
   "execution_count": 30,
   "metadata": {},
   "outputs": [
    {
     "data": {
      "text/plain": [
       "array([5.1, 3.5, 1.4, 0.3])"
      ]
     },
     "execution_count": 30,
     "metadata": {},
     "output_type": "execute_result"
    }
   ],
   "source": [
    "iris.data[17,:]"
   ]
  },
  {
   "cell_type": "code",
   "execution_count": null,
   "metadata": {},
   "outputs": [],
   "source": []
  }
 ],
 "metadata": {
  "kernelspec": {
   "display_name": "Python 3",
   "language": "python",
   "name": "python3"
  },
  "language_info": {
   "codemirror_mode": {
    "name": "ipython",
    "version": 3
   },
   "file_extension": ".py",
   "mimetype": "text/x-python",
   "name": "python",
   "nbconvert_exporter": "python",
   "pygments_lexer": "ipython3",
   "version": "3.8.3"
  }
 },
 "nbformat": 4,
 "nbformat_minor": 4
}
